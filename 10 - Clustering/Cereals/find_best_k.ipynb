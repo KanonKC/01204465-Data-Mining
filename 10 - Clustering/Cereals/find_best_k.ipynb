{
 "cells": [
  {
   "cell_type": "markdown",
   "metadata": {},
   "source": [
    "# Find best k for KMeans value by using Elbow method"
   ]
  },
  {
   "cell_type": "code",
   "execution_count": 1,
   "metadata": {},
   "outputs": [],
   "source": [
    "k_nums = [\n",
    "    2.0,\n",
    "    3.0,\n",
    "    4.0,\n",
    "    5.0,\n",
    "    8.0,\n",
    "    6.0,\n",
    "    9.0,\n",
    "    7.0,\n",
    "    10.0,\n",
    "]\n",
    "\n",
    "average_centroid_distances = [\n",
    "    7.498266183417345,\n",
    "    6.1760789607960955,\n",
    "    5.14934631559907,\n",
    "    4.208894948106023,\n",
    "    2.753963431053906,\n",
    "    3.7354028416732006,\n",
    "    2.5720987353724287,\n",
    "    3.355939563970582,\n",
    "    2.2554871569889694,\n",
    "]"
   ]
  },
  {
   "cell_type": "code",
   "execution_count": 7,
   "metadata": {},
   "outputs": [
    {
     "name": "stdout",
     "output_type": "stream",
     "text": [
      "y = -0.6553473783035471x + 8.80896094002444\n"
     ]
    },
    {
     "data": {
      "text/plain": [
       "[[5.0, 1.1068245738576032],\n",
       " [6.0, 0.9547219081404148],\n",
       " [4.0, 0.8683652962340518],\n",
       " [7.0, 0.7239740903910326],\n",
       " [8.0, 0.6793346987886806],\n",
       " [3.0, 0.5577408720889886],\n",
       " [9.0, 0.28331660452667856],\n",
       " [2.0, 0.0],\n",
       " [10.0, 0.0]]"
      ]
     },
     "execution_count": 7,
     "metadata": {},
     "output_type": "execute_result"
    }
   ],
   "source": [
    "import math\n",
    "def shortest_distance(x, y, a, b, c):\n",
    "    d = abs((a * x + b * y + c)) / (math.sqrt(a * a + b * b))\n",
    "    return d\n",
    "\n",
    "x1,x2,y1,y2 = k_nums[0], k_nums[-1], average_centroid_distances[0], average_centroid_distances[-1]\n",
    "slope = (y2 - y1) / (x2 - x1)\n",
    "c = y1 - slope * x1\n",
    "print(f'y = {slope}x + {c}')\n",
    "\n",
    "diff = []\n",
    "for i in range(len(k_nums)):\n",
    "    diff.append([k_nums[i],shortest_distance(k_nums[i], average_centroid_distances[i], slope, -1, c)])\n",
    "\n",
    "diff.sort(key=lambda x: x[1],reverse=True)\n",
    "diff"
   ]
  }
 ],
 "metadata": {
  "kernelspec": {
   "display_name": "Python 3",
   "language": "python",
   "name": "python3"
  },
  "language_info": {
   "codemirror_mode": {
    "name": "ipython",
    "version": 3
   },
   "file_extension": ".py",
   "mimetype": "text/x-python",
   "name": "python",
   "nbconvert_exporter": "python",
   "pygments_lexer": "ipython3",
   "version": "3.11.1"
  },
  "orig_nbformat": 4
 },
 "nbformat": 4,
 "nbformat_minor": 2
}
